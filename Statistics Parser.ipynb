{
 "cells": [
  {
   "cell_type": "markdown",
   "metadata": {},
   "source": [
    "# ML Parsing #\n",
    "Initial parsing of the grade submissions. It is meant only for research purposes and not for production environments.\n",
    "\n",
    "_What it does?_\n",
    "- Parses the intial csv files (form csv + grades uploaded in csv format)\n",
    "- Shows basic info of the data\n",
    "- Connects form submissions with their associated grades and cleans entry with no grades\n",
    "- Parses the submission for the CSD Department\n",
    "- Drops invalid values and fixes any other issues with the dataset\n",
    "- Produces a final dataset with the form submissions and the grades. Each course found in the dataset is represented as a column. Only the valid courses are kept as found by the OPEN API of AUTH. The dataset contains 89 courses. \n",
    "\n",
    "*Some columns refer to the same course but they are with different codes (old/new study program)\n",
    "- This is fixed, old courses are assigned to new course codes.\n",
    "\n",
    "**ATTENTION!!: Some outputs have been deleted for privacy reasons. PLEASE DO NOT UPLOAD OUTPUTS WITH PERSONAL INFO** "
   ]
  },
  {
   "cell_type": "code",
   "execution_count": null,
   "metadata": {},
   "outputs": [],
   "source": [
    "%matplotlib inline\n",
    "import os\n",
    "import pandas as pd\n",
    "import numpy as np\n",
    "import matplotlib.pyplot as plt\n",
    "import json"
   ]
  },
  {
   "cell_type": "code",
   "execution_count": null,
   "metadata": {},
   "outputs": [],
   "source": [
    "#Define files\n",
    "form_csv = \"Form_Responses_11_09.csv\"\n",
    "folder_with_grade_csvs = \"../GradeParser/csv/\"\n",
    "# Json with the valid courses as got from OPEN AUTH API (https://ws-ext.it.auth.gr/)\n",
    "valid_courses_json = \"courses_ids_600000014.json\""
   ]
  },
  {
   "cell_type": "markdown",
   "metadata": {},
   "source": [
    "## General Parsing ##"
   ]
  },
  {
   "cell_type": "code",
   "execution_count": null,
   "metadata": {
    "scrolled": true
   },
   "outputs": [],
   "source": [
    "#reading the form submissions (download csv file)\n",
    "submissions_csv = pd.read_csv(form_csv)\n",
    "display(submissions_csv)"
   ]
  },
  {
   "cell_type": "code",
   "execution_count": null,
   "metadata": {
    "scrolled": true
   },
   "outputs": [],
   "source": [
    "submissions_csv.info()"
   ]
  },
  {
   "cell_type": "code",
   "execution_count": null,
   "metadata": {},
   "outputs": [],
   "source": [
    "#Create an extract column to store the paths of the csvs with the grades\n",
    "csv = [None] * (submissions_csv.shape[0])\n",
    "submissions_csv[\"CSV\"] = pd.Series(csv).to_numpy()\n",
    "# display(submissions_csv)\n",
    "# print(submissions_csv['Filename'])"
   ]
  },
  {
   "cell_type": "code",
   "execution_count": null,
   "metadata": {
    "scrolled": false
   },
   "outputs": [],
   "source": [
    "#Find associated csv\n",
    "for r,d,f in os.walk(folder_with_grade_csvs):\n",
    "    for file in f:\n",
    "        if \".csv\" in file: # For each csv\n",
    "            without_ext = file.replace(\"_results.csv\",\"\") #Remove extensions added by the parser\\n\",\n",
    "            # Set the csv found \\n\",\n",
    "            submissions_csv.loc[submissions_csv[\"Filename\"].str.contains(without_ext,regex=False),\"CSV\"] = r + file\n",
    "display(submissions_csv)"
   ]
  },
  {
   "cell_type": "code",
   "execution_count": null,
   "metadata": {
    "scrolled": true
   },
   "outputs": [],
   "source": [
    "# Nan CSV entries\n",
    "display(submissions_csv[submissions_csv['CSV'].isnull()])\n",
    "# Drop those entries with no csv associated\n",
    "submissions_csv.dropna(subset=['CSV'],inplace = True)\n",
    "display(submissions_csv)"
   ]
  },
  {
   "cell_type": "markdown",
   "metadata": {},
   "source": [
    "## Parsing for Departments ##"
   ]
  },
  {
   "cell_type": "code",
   "execution_count": null,
   "metadata": {},
   "outputs": [],
   "source": [
    "# Check unique departments\n",
    "display(submissions_csv.groupby('Σχολή Φοίτησης')['Timestamp'].nunique())\n",
    "\n",
    "\n",
    "# Get the CSD department\n",
    "csd = submissions_csv[submissions_csv['Σχολή Φοίτησης'] == \"Πληροφορική ΑΠΘ\"]\n",
    "# hmmy = submissions_csv[submissions_csv['Σχολή Φοίτησης'] == \"ΗΜΜΥ ΑΠΘ\"]\n"
   ]
  },
  {
   "cell_type": "markdown",
   "metadata": {},
   "source": [
    "### CSD Department - Grade Statistics ###"
   ]
  },
  {
   "cell_type": "code",
   "execution_count": null,
   "metadata": {},
   "outputs": [],
   "source": [
    "# Concat all grades (all the grade csvs together)\n",
    "csd_csv_files = csd['CSV'].to_numpy()\n",
    "li = []\n",
    "# pd.read_csv(csd_csv_files[5],encoding='utf-8')\n",
    "colnames = [\"C_ID\",\"C_NAME\",\"TYPE\",\"EXAM_YEAR\",\"EXAM_PERIOD\",\"ECTS\",\"DM\",\"FACTOR\",\"GRADE\"]\n",
    "# coltypes = {\"C_ID\":str,\"C_NAME\":str,\"TYPE\":str,\"EXAM_YEAR\":str,\"EXAM_PERIOD\":str,\"ECTS\":np.int32,\"DM\":np.int32,\"FACTOR\":np.int32,\"GRADE\":np.float64}\n",
    "for csv_file in csd_csv_files:\n",
    "    f = open(csv_file,encoding='utf-8')\n",
    "    df = pd.read_csv(f, index_col=None, header=None, names = colnames)\n",
    "    li.append(df)\n",
    "\n",
    "csd_grades = pd.concat(li, axis=0, ignore_index=True)\n",
    "display(csd_grades)"
   ]
  },
  {
   "cell_type": "code",
   "execution_count": null,
   "metadata": {},
   "outputs": [],
   "source": [
    "# Find more information on the courses\n",
    "unique_courses = csd_grades[\"C_ID\"].unique()\n",
    "print(\"Total unique courses:{}\".format(len(unique_courses)))\n",
    "csd_grades['C_ID'] = csd_grades['C_ID'].str.replace(' ','',regex=True)\n",
    "csd_grades[\"C_ID\"].value_counts()"
   ]
  },
  {
   "cell_type": "code",
   "execution_count": null,
   "metadata": {},
   "outputs": [],
   "source": [
    "# Fixing Issues\n",
    "def fix_issues(df):\n",
    "    \n",
    "    df['C_ID'] = df['C_ID'].str.replace(' ','',regex=True) # Removing blank cases\n",
    "    \n",
    "    df['C_NAME'] = df['C_NAME'].str.replace('*','',regex=True) # Removing stars\n",
    "    df['C_NAME'] = df['C_NAME'].str.strip() # Removing leading and trailing spaces\n",
    "\n",
    "    # Fixing issue with parser\n",
    "    df['C_NAME'] = df['C_NAME'].replace('ΑΝΤΙΚΕΙΜΕΝΟΣΤΡΕΦΗΣ','ΑΝΤΙΚΕΙΜΕΝΟΣΤΡΕΦΗΣ ΠΡΟΓΡΑΜΜΑΤΙΣΜΟΣ',regex=False)\n",
    "    df['C_NAME'] = df['C_NAME'].replace('ΘΕΩΡΙΑ ΓΛΩΣΣΩΝ ΚΑΙ','ΘΕΩΡΙΑ ΓΛΩΣΣΩΝ ΚΑΙ ΑΥΤΟΜΑΤΩΝ',regex=False)\n",
    "    df['C_NAME'] = df['C_NAME'].replace('ΤΕΧΝΙΚΕΣ ΔΟΜΗΣΗΣ','ΤΕΧΝΙΚΕΣ ΔΟΜΗΣΗΣ ΔΕΔΟΜΕΝΩΝ',regex=False)\n",
    "    \n",
    "    # Grouping old courses with new ones with the same name - CHANGED TO MANUALLY\n",
    "    unique_courses = df['C_NAME'].unique()\n",
    "    for course in unique_courses:\n",
    "        course_grades = df[df['C_NAME'] == course]\n",
    "        if course_grades['C_ID'].nunique() > 1:\n",
    "            course_codes = course_grades['C_ID'].value_counts().index.values\n",
    "            for i in range(1,len(course_codes)):\n",
    "                df['C_ID'] = df['C_ID'].replace(course_codes[i],course_codes[0],regex=False)\n",
    "                \n",
    "                \n",
    "    ## Manual Work ## \n",
    "    df['C_NAME'] = df['C_NAME'].replace('ΑΝΑΓΝΩΡΙΣΗ ΠΡΟΤΥΠΩΝ','ΑΝΑΓΝΩΡΙΣΗ ΠΡΟΤΥΠΩΝ -ΣΤΑΤΙΣΤΙΚΗ ΜΑΘΗΣΗ',regex=False)\n",
    "    df['C_ID'] = df['C_ID'].replace('NDM-06-03','NDM-06-04',regex=False)\n",
    "    df['C_NAME'] = df['C_NAME'].replace('ΑΝΩΤΕΡΑ ΜΑΘΗΜΑΤΙΚΑ Ι','ΜΑΘΗΜΑΤΙΚΗ ΑΝΑΛΥΣΗ Ι',regex=False)\n",
    "    df['C_ID'] = df['C_ID'].replace('CO-01-01','NCO-01-01',regex=False)\n",
    "    df['C_NAME'] = df['C_NAME'].replace('ΑΝΩΤΕΡΑ ΜΑΘΗΜΑΤΙΚΑ ΙΙ','ΜΑΘΗΜΑΤΙΚΗ ΑΝΑΛΥΣΗ ΙΙ',regex=False)\n",
    "    df['C_ID'] = df['C_ID'].replace('CO-02-01','NCO-02-01',regex=False)\n",
    "    df['C_NAME'] = df['C_NAME'].replace('ΕΙΣΑΓΩΓΗ ΣΤΟΥΣ ΥΠΟΛΟΓΙΣΤΕΣ','ΕΙΣΑΓΩΓΗ ΣΤΗΝ ΠΛΗΡΟΦΟΡΙΚΗ',regex=False)\n",
    "    df['C_ID'] = df['C_ID'].replace('CO-01-02','NCO-01-02',regex=False)\n",
    "    df['C_NAME'] = df['C_NAME'].replace('ΘΕΩΡΙΑ ΓΛΩΣΣΩΝ ΚΑΙ ΑΥΤΟΜΑΤΩΝ','ΘΕΩΡΙΑ ΥΠΟΛΟΓΙΣΜΟΥ',regex=False)\n",
    "    df['C_ID'] = df['C_ID'].replace('CO-02-04','NCO-02-05',regex=False)\n",
    "    df['C_NAME'] = df['C_NAME'].replace('ΝΕΥΡΩΝΙΚΑ ΔΙΚΤΥΑ','ΝΕΥΡΩΝΙΚΑ ΔΙΚΤΥΑ - ΒΑΘΙΑ ΜΑΘΗΣΗ',regex=False)\n",
    "    df['C_ID'] = df['C_ID'].replace('NDM-07-03','NDM-07-05',regex=False)\n",
    "    df['C_NAME'] = df['C_NAME'].replace('ΠΙΘΑΝΟΤΗΤΕΣ KAI ΣΤΑΤΙΣΤΙΚΗ','ΠΙΘΑΝΟΤΗΤΕΣ & ΣΤΑΤΙΣΤΙΚΗ',regex=False)\n",
    "    df['C_ID'] = df['C_ID'].replace('CO-02-02','NCO-02-02',regex=False)\n",
    "    df['C_NAME'] = df['C_NAME'].replace('ΣΧΕΔΙΑΣΗ ΑΛΓΟΡΙΘΜΩΝ','ΑΛΓΟΡΙΘΜΟΙ',regex=False)\n",
    "    df['C_ID'] = df['C_ID'].replace('CO-04-05','NCO-04-03',regex=False)\n",
    "    df['C_NAME'] = df['C_NAME'].replace('ΣΧΕΔΙΑΣΗ ΓΛΩΣΣΩΝ ΚΑΙ ΜΕΤΑΓΛΩΤΤΙΣΤΕΣ','ΣΧΕΔΙΑΣΗ ΓΛΩΣΣΩΝ ΠΡΟΓΡΑΜΜΑΤΙΣΜΟΥ ',regex=False)\n",
    "    df['C_ID'] = df['C_ID'].replace('CO-04-03','NCO-04-01',regex=False)\n",
    "    \n",
    "    # More manual\n",
    "    df['C_ID'] = df['C_ID'].replace('CO-01-05','NCO-01-05',regex=False)\n",
    "    df['C_ID'] = df['C_ID'].replace('CO-01-06','NCO-01-04',regex=False)\n",
    "    df['C_ID'] = df['C_ID'].replace('CO-01-03','NCO-01-03',regex=False)\n",
    "    df['C_ID'] = df['C_ID'].replace('CO-02-05','NCO-02-04',regex=False)\n",
    "    df['C_ID'] = df['C_ID'].replace('CO-04-02','NCO-04-05',regex=False)\n",
    "    df['C_ID'] = df['C_ID'].replace('CO-03-03','NCO-03-04',regex=False)\n",
    "    df['C_ID'] = df['C_ID'].replace('CO-04-04','NCO-04-02',regex=False)\n",
    "    \n",
    "    return df"
   ]
  },
  {
   "cell_type": "code",
   "execution_count": null,
   "metadata": {},
   "outputs": [],
   "source": [
    "# Printing the full dataframe\n",
    "def print_full(df):\n",
    "    with pd.option_context('display.max_rows', None, 'display.max_columns', None):  # more options can be specified also\n",
    "        print(df)"
   ]
  },
  {
   "cell_type": "code",
   "execution_count": null,
   "metadata": {},
   "outputs": [],
   "source": [
    "# Checking more info\n",
    "unique_names = csd_grades.groupby('C_NAME')['C_ID'].value_counts()\n",
    "print_full(unique_names)\n",
    "print(\"Total:\" + str(csd_grades['C_NAME'].nunique()))\n"
   ]
  },
  {
   "cell_type": "code",
   "execution_count": null,
   "metadata": {},
   "outputs": [],
   "source": [
    "csd_grades = fix_issues(csd_grades)"
   ]
  },
  {
   "cell_type": "code",
   "execution_count": null,
   "metadata": {},
   "outputs": [],
   "source": [
    "unique_names = csd_grades.groupby('C_NAME')['C_ID'].value_counts()\n",
    "print_full(unique_names)\n",
    "print(\"Total:\" + str(csd_grades['C_NAME'].nunique()))"
   ]
  },
  {
   "cell_type": "code",
   "execution_count": null,
   "metadata": {},
   "outputs": [],
   "source": [
    "# Get's the real courses offered as got from the AUTH Open Data API (https://ws-ext.it.auth.gr/)\n",
    "def get_valid_courses():\n",
    "    with open(valid_courses_json) as json_file:\n",
    "        data = json.load(json_file)\n",
    "        df = pd.DataFrame(data['courses'])\n",
    "    json_file.close()\n",
    "    return df['coursecode'].values"
   ]
  },
  {
   "cell_type": "code",
   "execution_count": null,
   "metadata": {},
   "outputs": [],
   "source": [
    "import numpy as np\n",
    "colnames = [\"C_ID\",\"C_NAME\",\"TYPE\",\"EXAM_YEAR\",\"EXAM_PERIOD\",\"ECTS\",\"DM\",\"FACTOR\",\"GRADE\"]\n",
    "unique_courses = csd_grades[\"C_ID\"].unique()\n",
    "course_dictionary = dict()\n",
    "# Create a dictionary for each course, each row represents a student\n",
    "for course in get_valid_courses():\n",
    "    course_dictionary[course] = [-1] * len(csd_csv_files) \n",
    "for i in range(0,len(csd_csv_files)):\n",
    "    csv_file = csd_csv_files[i]\n",
    "    f = open(csv_file,encoding='utf-8')\n",
    "    df = pd.read_csv(f, index_col=None, header=None, names = colnames)\n",
    "    df = fix_issues(df)\n",
    "    df_courses = df[\"C_ID\"].to_numpy()\n",
    "    for course_id in df_courses:\n",
    "        if course_id in course_dictionary:\n",
    "            course_dictionary[course_id][i] =  df[df[\"C_ID\"] == course_id][\"GRADE\"].to_numpy()[0]\n",
    "        else:\n",
    "            print(\"Not valid course:\" + course_id + '-' + csd_grades[csd_grades[\"C_ID\"] == course_id]['C_NAME'].values)\n",
    "csd_courses_df = pd.DataFrame.from_dict(course_dictionary)\n",
    "display(csd_courses_df)"
   ]
  },
  {
   "cell_type": "code",
   "execution_count": null,
   "metadata": {},
   "outputs": [],
   "source": [
    "# Fill nan values with -1\n",
    "csd_courses_df.fillna(-1,inplace = True)\n",
    "# Replace blank values with -1\n",
    "csd_courses_df.replace(r'^\\s*$', -1, regex=True,inplace=True)\n",
    "# Replace ΕΠΙΤ with 10\n",
    "csd_courses_df.replace(' ΕΠΙΤ',10,inplace=True)\n",
    "display(csd_courses_df)"
   ]
  },
  {
   "cell_type": "code",
   "execution_count": null,
   "metadata": {
    "scrolled": true
   },
   "outputs": [],
   "source": [
    "# Change to type flaot\n",
    "csd_courses_df = csd_courses_df.astype(np.float64)"
   ]
  },
  {
   "cell_type": "code",
   "execution_count": null,
   "metadata": {},
   "outputs": [],
   "source": [
    "csd_courses_df.describe()"
   ]
  },
  {
   "cell_type": "markdown",
   "metadata": {},
   "source": [
    "#### Concatenate CSD Student + Grades ####"
   ]
  },
  {
   "cell_type": "code",
   "execution_count": null,
   "metadata": {},
   "outputs": [],
   "source": [
    "# Remove unnecessary fields for final dataset\n",
    "csd_final = csd.drop(['Timestamp', 'Σχολή Φοίτησης',\n",
    "       'Υποβολή αναλυτικής βαθμολογίας',\n",
    "       'Συναινώ στη χρήση των στοιχείων μου από την ομάδα του Grade++',\n",
    "       'Αν θες να λάβεις πρώτος πρόσβαση στην εφαρμογή, συμπλήρωσε το email σου:',\n",
    "       'Filename', 'CSV'],axis=1)\n",
    "csd_final.reset_index(drop=True,inplace=True)\n",
    "display(csd_final)"
   ]
  },
  {
   "cell_type": "code",
   "execution_count": null,
   "metadata": {},
   "outputs": [],
   "source": [
    "# Concat with grades\n",
    "ldf = [csd_final, csd_courses_df]\n",
    "csd_final = pd.concat(ldf,axis=1)\n",
    "display(csd_final)"
   ]
  },
  {
   "cell_type": "code",
   "execution_count": null,
   "metadata": {},
   "outputs": [],
   "source": [
    "# Write to file\n",
    "csd_final.to_csv(\"csd.csv\",index=False)"
   ]
  },
  {
   "cell_type": "code",
   "execution_count": null,
   "metadata": {},
   "outputs": [],
   "source": []
  }
 ],
 "metadata": {
  "kernelspec": {
   "display_name": "Python 3",
   "language": "python",
   "name": "python3"
  },
  "language_info": {
   "codemirror_mode": {
    "name": "ipython",
    "version": 3
   },
   "file_extension": ".py",
   "mimetype": "text/x-python",
   "name": "python",
   "nbconvert_exporter": "python",
   "pygments_lexer": "ipython3",
   "version": "3.7.4"
  }
 },
 "nbformat": 4,
 "nbformat_minor": 2
}
